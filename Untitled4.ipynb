{
  "nbformat": 4,
  "nbformat_minor": 0,
  "metadata": {
    "colab": {
      "provenance": [],
      "authorship_tag": "ABX9TyNZQjK8KCrNUPsxfjA474Rm",
      "include_colab_link": true
    },
    "kernelspec": {
      "name": "python3",
      "display_name": "Python 3"
    },
    "language_info": {
      "name": "python"
    }
  },
  "cells": [
    {
      "cell_type": "markdown",
      "metadata": {
        "id": "view-in-github",
        "colab_type": "text"
      },
      "source": [
        "<a href=\"https://colab.research.google.com/github/Shadow-Walker360/Shadow-Walker360/blob/main/Untitled4.ipynb\" target=\"_parent\"><img src=\"https://colab.research.google.com/assets/colab-badge.svg\" alt=\"Open In Colab\"/></a>"
      ]
    },
    {
      "cell_type": "code",
      "execution_count": 2,
      "metadata": {
        "colab": {
          "base_uri": "https://localhost:8080/",
          "height": 245
        },
        "id": "3pFQFWCY9c6k",
        "outputId": "60835a41-18e6-466d-dc54-13545aad362d"
      },
      "outputs": [
        {
          "output_type": "stream",
          "name": "stdout",
          "text": [
            "Error connecting to database: could not translate host name \"POSTGRESS\" to address: Name or service not known\n",
            "\n"
          ]
        },
        {
          "output_type": "error",
          "ename": "NameError",
          "evalue": "name 'conn' is not defined",
          "traceback": [
            "\u001b[0;31m---------------------------------------------------------------------------\u001b[0m",
            "\u001b[0;31mNameError\u001b[0m                                 Traceback (most recent call last)",
            "\u001b[0;32m<ipython-input-2-309a1d694ca9>\u001b[0m in \u001b[0;36m<cell line: 26>\u001b[0;34m()\u001b[0m\n\u001b[1;32m     24\u001b[0m \u001b[0;34m\u001b[0m\u001b[0m\n\u001b[1;32m     25\u001b[0m \u001b[0;31m# Create a cursor object\u001b[0m\u001b[0;34m\u001b[0m\u001b[0;34m\u001b[0m\u001b[0m\n\u001b[0;32m---> 26\u001b[0;31m \u001b[0mcur\u001b[0m \u001b[0;34m=\u001b[0m \u001b[0mconn\u001b[0m\u001b[0;34m.\u001b[0m\u001b[0mcursor\u001b[0m\u001b[0;34m(\u001b[0m\u001b[0;34m)\u001b[0m\u001b[0;34m\u001b[0m\u001b[0;34m\u001b[0m\u001b[0m\n\u001b[0m\u001b[1;32m     27\u001b[0m \u001b[0;34m\u001b[0m\u001b[0m\n\u001b[1;32m     28\u001b[0m \u001b[0;31m# Create a table for chatbot data\u001b[0m\u001b[0;34m\u001b[0m\u001b[0;34m\u001b[0m\u001b[0m\n",
            "\u001b[0;31mNameError\u001b[0m: name 'conn' is not defined"
          ]
        }
      ],
      "source": [
        "import psycopg2\n",
        "import nltk\n",
        "from nltk.tokenize import word_tokenize\n",
        "from nltk.corpus import stopwords\n",
        "from nltk.stem import WordNetLemmatizer\n",
        "\n",
        "# PostgreSQL database connection\n",
        "username = 'POSTGRESS'\n",
        "password = '0758603519'\n",
        "server_name = 'POSTGRESS'\n",
        "port = 5000\n",
        "\n",
        "try:\n",
        "    conn = psycopg2.connect(\n",
        "        dbname='chatbot_db',\n",
        "        user=username,\n",
        "        password=password,\n",
        "        host=server_name,\n",
        "        port=port\n",
        "    )\n",
        "    print(\"Connected to database!\")\n",
        "except psycopg2.Error as e:\n",
        "    print(\"Error connecting to database:\", e)\n",
        "\n",
        "# Create a cursor object\n",
        "cur = conn.cursor()\n",
        "\n",
        "# Create a table for chatbot data\n",
        "cur.execute('''\n",
        "    CREATE TABLE IF NOT EXISTS chatbot_data (\n",
        "        id SERIAL PRIMARY KEY,\n",
        "        user_input TEXT,\n",
        "        chatbot_response TEXT\n",
        "    )\n",
        "''')\n",
        "\n",
        "# Commit the transaction\n",
        "conn.commit()\n",
        "\n",
        "# Define a function to process user input\n",
        "def process_user_input(user_input):\n",
        "    # Tokenize the user input\n",
        "    tokens = word_tokenize(user_input)\n",
        "\n",
        "    # Remove stopwords\n",
        "    stop_words = set(stopwords.words('english'))\n",
        "    tokens = [token for token in tokens if token.lower() not in stop_words]\n",
        "\n",
        "    # Lemmatize the tokens\n",
        "    lemmatizer = WordNetLemmatizer()\n",
        "    tokens = [lemmatizer.lemmatize(token) for token in tokens]\n",
        "\n",
        "    # Join the tokens back into a string\n",
        "    processed_input = ' '.join(tokens)\n",
        "\n",
        "    return processed_input\n",
        "\n",
        "# Define a function to generate a chatbot response\n",
        "def generate_chatbot_response(processed_input):\n",
        "    # Query the database for a matching response\n",
        "    cur.execute('''\n",
        "        SELECT chatbot_response\n",
        "        FROM chatbot_data\n",
        "        WHERE user_input = %s\n",
        "    ''', (processed_input,))\n",
        "\n",
        "    # Fetch the response from the database\n",
        "    response = cur.fetchone()\n",
        "\n",
        "    if response:\n",
        "        return response[0]\n",
        "    else:\n",
        "        return \"I'm not sure I understand. Can you please rephrase your question?\"\n",
        "\n",
        "# Define a function to handle user input\n",
        "def handle_user_input(user_input):\n",
        "    processed_input = process_user_input(user_input)\n",
        "    response = generate_chatbot_response(processed_input)\n",
        "\n",
        "    # Insert the user input and chatbot response into the database\n",
        "    cur.execute('''\n",
        "        INSERT INTO chatbot_data (user_input, chatbot_response)\n",
        "        VALUES (%s, %s)\n",
        "    ''', (processed_input, response))\n",
        "\n",
        "    # Commit the transaction\n",
        "    conn.commit()\n",
        "\n",
        "    return response\n",
        "\n",
        "# Test the chatbot\n",
        "user_input = \"Hello, how are you?\"\n",
        "response = handle_user_input(user_input)\n",
        "print(\"Chatbot response:\", response)"
      ]
    }
  ]
}